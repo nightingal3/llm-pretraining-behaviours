{
 "cells": [
  {
   "cell_type": "markdown",
   "metadata": {},
   "source": [
    "This notebook performs a few basic checks on the output of dedup.py."
   ]
  },
  {
   "cell_type": "code",
   "execution_count": 33,
   "metadata": {},
   "outputs": [
    {
     "name": "stderr",
     "output_type": "stream",
     "text": [
      "/home/mchen5/.local/lib/python3.9/site-packages/huggingface_hub/utils/_runtime.py:184: UserWarning: Pydantic is installed but cannot be imported. Please check your installation. `huggingface_hub` will default to not using Pydantic. Error message: '{e}'\n",
      "  warnings.warn(\n",
      "/home/mchen5/.local/lib/python3.9/site-packages/transformers/utils/generic.py:441: UserWarning: torch.utils._pytree._register_pytree_node is deprecated. Please use torch.utils._pytree.register_pytree_node instead.\n",
      "  _torch_pytree._register_pytree_node(\n",
      "/home/mchen5/.local/lib/python3.9/site-packages/transformers/utils/generic.py:309: UserWarning: torch.utils._pytree._register_pytree_node is deprecated. Please use torch.utils._pytree.register_pytree_node instead.\n",
      "  _torch_pytree._register_pytree_node(\n"
     ]
    },
    {
     "name": "stdout",
     "output_type": "stream",
     "text": [
      "WARNING: C++ module could not be loaded. Janitor running in python mode\n"
     ]
    },
    {
     "name": "stderr",
     "output_type": "stream",
     "text": [
      "Traceback (most recent call last):\n",
      "  File \"/data/tir/projects/tir7/user_data/mchen5/llm-pretraining-behaviours/lm-evaluation-harness/lm_eval/decontamination/janitor.py\", line 11, in <module>\n",
      "    import janitor_util\n",
      "ModuleNotFoundError: No module named 'janitor_util'\n"
     ]
    }
   ],
   "source": [
    "import os\n",
    "import sys\n",
    "import pandas as pd\n",
    "\n",
    "ORIGINAL_DIR = \"/data/tir/projects/tir7/user_data/mchen5/dolma_100B\"\n",
    "DEDUPED_DIR = \"/data/tir/projects/tir7/user_data/mchen5/dolma_100B_deduped_3\"\n",
    "domains = [\n",
    "    \"c4\",\n",
    "    \"common-crawl\",\n",
    "    \"peS2o\",\n",
    "    \"gutenberg-books\",\n",
    "    \"stack-code\",\n",
    "    \"wiki-en-simple\",\n",
    "]\n",
    "\n",
    "\n",
    "sys.path.append(\n",
    "    \"/data/tir/projects/tir7/user_data/mchen5/llm-pretraining-behaviours/lm-evaluation-harness\"\n",
    ")\n",
    "from lm_eval.decontamination.janitor import Janitor"
   ]
  },
  {
   "cell_type": "markdown",
   "metadata": {},
   "source": [
    "First, the filenames in the original and deduped directories should match."
   ]
  },
  {
   "cell_type": "code",
   "execution_count": 24,
   "metadata": {},
   "outputs": [
    {
     "name": "stdout",
     "output_type": "stream",
     "text": [
      "\n",
      "Original files:  {'c4': 26, 'common-crawl': 92, 'peS2o': 5, 'gutenberg-books': 13, 'stack-code': 12, 'wiki-en-simple': 4}\n",
      "Deduped files:  {'c4': 26, 'common-crawl': 92, 'peS2o': 5, 'gutenberg-books': 13, 'stack-code': 12, 'wiki-en-simple': 4}\n"
     ]
    },
    {
     "data": {
      "text/plain": [
       "True"
      ]
     },
     "execution_count": 24,
     "metadata": {},
     "output_type": "execute_result"
    }
   ],
   "source": [
    "original_file_names = {}\n",
    "deduped_file_names = {}\n",
    "\n",
    "for domain in domains:\n",
    "    original_file_names[domain] = [\n",
    "        sorted(files) for _, _, files in os.walk(f\"{ORIGINAL_DIR}/{domain}\")\n",
    "    ]\n",
    "    deduped_file_names[domain] = [\n",
    "        sorted(files) for _, _, files in os.walk(f\"{DEDUPED_DIR}/{domain}\")\n",
    "    ]\n",
    "\n",
    "print(\"Original files: \", {k: len(v[0]) for k, v in original_file_names.items()})\n",
    "print(\"Deduped files: \", {k: len(v[0]) for k, v in deduped_file_names.items()})\n",
    "print(original_file_names == deduped_file_names)"
   ]
  },
  {
   "cell_type": "markdown",
   "metadata": {},
   "source": [
    "Also, both directories should take roughly equal space for each domain."
   ]
  },
  {
   "cell_type": "code",
   "execution_count": 31,
   "metadata": {},
   "outputs": [
    {
     "name": "stdout",
     "output_type": "stream",
     "text": [
      "33G\t/data/tir/projects/tir7/user_data/mchen5/dolma_100B/c4\n",
      "123G\t/data/tir/projects/tir7/user_data/mchen5/dolma_100B/common-crawl\n",
      "4.7G\t/data/tir/projects/tir7/user_data/mchen5/dolma_100B/gutenberg-books\n",
      "15G\t/data/tir/projects/tir7/user_data/mchen5/dolma_100B/peS2o\n",
      "18G\t/data/tir/projects/tir7/user_data/mchen5/dolma_100B/stack-code\n",
      "4.2G\t/data/tir/projects/tir7/user_data/mchen5/dolma_100B/wiki-en-simple\n"
     ]
    }
   ],
   "source": [
    "!du -sh /data/tir/projects/tir7/user_data/mchen5/dolma_100B/*"
   ]
  },
  {
   "cell_type": "code",
   "execution_count": 30,
   "metadata": {},
   "outputs": [
    {
     "name": "stdout",
     "output_type": "stream",
     "text": [
      "33G\t/data/tir/projects/tir7/user_data/mchen5/dolma_100B_deduped_3/c4\n",
      "123G\t/data/tir/projects/tir7/user_data/mchen5/dolma_100B_deduped_3/common-crawl\n",
      "4.6G\t/data/tir/projects/tir7/user_data/mchen5/dolma_100B_deduped_3/gutenberg-books\n",
      "15G\t/data/tir/projects/tir7/user_data/mchen5/dolma_100B_deduped_3/peS2o\n",
      "18G\t/data/tir/projects/tir7/user_data/mchen5/dolma_100B_deduped_3/stack-code\n",
      "4.2G\t/data/tir/projects/tir7/user_data/mchen5/dolma_100B_deduped_3/wiki-en-simple\n"
     ]
    }
   ],
   "source": [
    "!du -sh /data/tir/projects/tir7/user_data/mchen5/dolma_100B_deduped_3/*"
   ]
  },
  {
   "cell_type": "markdown",
   "metadata": {},
   "source": [
    "Here's a simple demo of decontamination, using the same method as in dedup.py."
   ]
  },
  {
   "cell_type": "code",
   "execution_count": 62,
   "metadata": {},
   "outputs": [
    {
     "name": "stdout",
     "output_type": "stream",
     "text": [
      "WARNING: Janitor running in python mode\n"
     ]
    },
    {
     "data": {
      "text/html": [
       "<div>\n",
       "<style scoped>\n",
       "    .dataframe tbody tr th:only-of-type {\n",
       "        vertical-align: middle;\n",
       "    }\n",
       "\n",
       "    .dataframe tbody tr th {\n",
       "        vertical-align: top;\n",
       "    }\n",
       "\n",
       "    .dataframe thead th {\n",
       "        text-align: right;\n",
       "    }\n",
       "</style>\n",
       "<table border=\"1\" class=\"dataframe\">\n",
       "  <thead>\n",
       "    <tr style=\"text-align: right;\">\n",
       "      <th></th>\n",
       "      <th>text</th>\n",
       "      <th>num_contaminated</th>\n",
       "      <th>thrown</th>\n",
       "    </tr>\n",
       "  </thead>\n",
       "  <tbody>\n",
       "    <tr>\n",
       "      <th>0</th>\n",
       "      <td>Artificial intelligence is the intelligence of...</td>\n",
       "      <td>0</td>\n",
       "      <td>False</td>\n",
       "    </tr>\n",
       "    <tr>\n",
       "      <th>1</th>\n",
       "      <td>早上好中国 现在我有冰淇淋 我很喜欢冰淇淋 但是 速度与激情9 比冰淇淋 速度与激情 速度与...</td>\n",
       "      <td>0</td>\n",
       "      <td>False</td>\n",
       "    </tr>\n",
       "    <tr>\n",
       "      <th>2</th>\n",
       "      <td></td>\n",
       "      <td>2</td>\n",
       "      <td>False</td>\n",
       "    </tr>\n",
       "  </tbody>\n",
       "</table>\n",
       "</div>"
      ],
      "text/plain": [
       "                                                text  num_contaminated  thrown\n",
       "0  Artificial intelligence is the intelligence of...                 0   False\n",
       "1  早上好中国 现在我有冰淇淋 我很喜欢冰淇淋 但是 速度与激情9 比冰淇淋 速度与激情 速度与...                 0   False\n",
       "2                                                                    2   False"
      ]
     },
     "execution_count": 62,
     "metadata": {},
     "output_type": "execute_result"
    }
   ],
   "source": [
    "# Make janitor, register contaminant\n",
    "with open(\n",
    "    \"/data/tir/projects/tir7/user_data/mchen5/llm-pretraining-behaviours/dolma_data_processing/decontamination/dedup/contaminant_mini.txt\",\n",
    "    \"r\",\n",
    ") as file:\n",
    "    contaminant: str = file.read()\n",
    "janitor = Janitor()\n",
    "janitor.register_contaminant(contaminant)\n",
    "\n",
    "\n",
    "def decontaminate(df: pd.DataFrame) -> pd.DataFrame:\n",
    "    df[\"num_contaminated\"] = 0\n",
    "    df[\"thrown\"] = False\n",
    "\n",
    "    num_thrown = 0\n",
    "    for index, row in df.iterrows():\n",
    "        try:\n",
    "            (cleaned, num_contaminated) = janitor.clean_python(row[\"text\"])\n",
    "            df.at[index, \"num_contaminated\"] = num_contaminated\n",
    "            if num_contaminated != 0:\n",
    "                df.at[index, \"text\"] = \"\".join(cleaned)\n",
    "        except:\n",
    "            df.at[index, \"thrown\"] = True\n",
    "            num_thrown += 1\n",
    "\n",
    "    return df\n",
    "\n",
    "\n",
    "clean_test_1 = \"Artificial intelligence is the intelligence of machines or software, as opposed to the intelligence of living beings, primarily of humans. It is a field of study in computer science that develops and studies intelligent machines. Such machines may be called AIs.\"\n",
    "clean_test_2 = \"早上好中国 现在我有冰淇淋 我很喜欢冰淇淋 但是 速度与激情9 比冰淇淋 速度与激情 速度与激情9 我最喜欢 所以…现在是音乐时间 准备 1 2 3 两个礼拜以后 速度与激情9 *3 不要忘记 不要错过 记得去电影院看速度与激情9 因为非常好电影 动作非常好 差不多一样冰淇淋 再见\"\n",
    "dirty_test_1 = \"\"\"\n",
    "<Problem ID=\"nluds-0001\" Grade=\"1\" Source=\"http://www.k5learning.com\">\n",
    "\t\t<Body>Seven red apples and two green apples are in the basket.</Body>\n",
    "\t\t<Question>How many apples are in the basket?</Question>\n",
    "\t\t<Solution-Type>Addition</Solution-Type>\n",
    " \t\t<Answer>9 (apples)</Answer>\n",
    "THIS IS A DIRTY STRING THIS IS A DIRTY STRING THIS IS A DIRTY STRING THIS IS A DIRTY STRING\n",
    "\t\t<Formula>7+2=9</Formula>\n",
    "\t</Problem>\n",
    "\"\"\"\n",
    "\n",
    "df = pd.DataFrame([clean_test_1, clean_test_2, dirty_test_1], columns=[\"text\"])\n",
    "decontaminate(df)"
   ]
  }
 ],
 "metadata": {
  "kernelspec": {
   "display_name": "towerllm-env",
   "language": "python",
   "name": "python3"
  },
  "language_info": {
   "codemirror_mode": {
    "name": "ipython",
    "version": 3
   },
   "file_extension": ".py",
   "mimetype": "text/x-python",
   "name": "python",
   "nbconvert_exporter": "python",
   "pygments_lexer": "ipython3",
   "version": "3.9.18"
  }
 },
 "nbformat": 4,
 "nbformat_minor": 2
}
