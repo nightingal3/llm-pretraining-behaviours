{
 "cells": [
  {
   "cell_type": "markdown",
   "metadata": {},
   "source": [
    "This file tests the deduplication code from EleutherAI's `janitor.py` file on small section(s) of Dolma to estimate how long full deduplication would take."
   ]
  },
  {
   "cell_type": "markdown",
   "metadata": {},
   "source": [
    "To run ``janitor.py`` with C++ on Linux:\n",
    "1. At ``lm-evaluation-harness/scripts/clean_training_data``, run ``c++ -O3 -Wall -shared -std=c++11 -fPIC $(python3 -m pybind11 --includes) janitor_util.cpp -o janitor_util$(python3-config --extension-suffix)``\n",
    "2. Rename the resulting ``.so`` file to ``janitor_util.so``\n",
    "3. Tell Python the location of ``janitor_util.so`` when it looks for ``janitor_util``: ```sys.path.append(harness_dir + \"/scripts/clean_training_data\")```"
   ]
  },
  {
   "cell_type": "code",
   "execution_count": 1,
   "metadata": {},
   "outputs": [
    {
     "name": "stderr",
     "output_type": "stream",
     "text": [
      "/home/mchen5/.local/lib/python3.9/site-packages/transformers/utils/generic.py:441: UserWarning: torch.utils._pytree._register_pytree_node is deprecated. Please use torch.utils._pytree.register_pytree_node instead.\n",
      "  _torch_pytree._register_pytree_node(\n",
      "2024-02-11:15:28:17,438 INFO     [utils.py:145] Note: detected 128 virtual cores but NumExpr set to maximum of 64, check \"NUMEXPR_MAX_THREADS\" environment variable.\n",
      "2024-02-11:15:28:17,439 INFO     [utils.py:148] Note: NumExpr detected 128 cores but \"NUMEXPR_MAX_THREADS\" not set, so enforcing safe limit of 8.\n",
      "2024-02-11:15:28:17,439 INFO     [utils.py:160] NumExpr defaulting to 8 threads.\n",
      "/home/mchen5/.local/lib/python3.9/site-packages/transformers/utils/generic.py:309: UserWarning: torch.utils._pytree._register_pytree_node is deprecated. Please use torch.utils._pytree.register_pytree_node instead.\n",
      "  _torch_pytree._register_pytree_node(\n",
      "/home/mchen5/.local/lib/python3.9/site-packages/transformers/utils/generic.py:309: UserWarning: torch.utils._pytree._register_pytree_node is deprecated. Please use torch.utils._pytree.register_pytree_node instead.\n",
      "  _torch_pytree._register_pytree_node(\n"
     ]
    }
   ],
   "source": [
    "import pyarrow.parquet as pq\n",
    "from pathlib import Path\n",
    "from transformers import AutoTokenizer\n",
    "import sys\n",
    "import datetime\n",
    "\n",
    "harness_dir = str(Path(\"__file__\").resolve().parents[3] / \"lm-evaluation-harness\")\n",
    "sys.path.append(harness_dir)\n",
    "\n",
    "sys.path.append(harness_dir + \"/scripts/clean_training_data\")\n",
    "from lm_eval.decontamination.janitor import Janitor"
   ]
  },
  {
   "cell_type": "code",
   "execution_count": 2,
   "metadata": {},
   "outputs": [],
   "source": [
    "with open(\"./arithmetic.txt\", \"r\") as file:\n",
    "    arithmetic = file.read()"
   ]
  },
  {
   "cell_type": "code",
   "execution_count": 2,
   "metadata": {},
   "outputs": [
    {
     "name": "stdout",
     "output_type": "stream",
     "text": [
      "Loaded c4/part_1.arrow\n"
     ]
    }
   ],
   "source": [
    "data = pq.read_table(\"/data/tir/projects/tir7/user_data/mchen5/dolma_100B/c4/part_1.arrow\")\n",
    "data_string = \"\".join(data.column(\"text\").to_pandas())\n",
    "print(f\"Loaded c4/part_1.arrow\")"
   ]
  },
  {
   "cell_type": "code",
   "execution_count": 3,
   "metadata": {},
   "outputs": [
    {
     "name": "stderr",
     "output_type": "stream",
     "text": [
      "Asking to truncate to max_length but no maximum length is provided and the model has no predefined maximum length. Default to no truncation.\n"
     ]
    }
   ],
   "source": [
    "LLAMA_DIR = \"/data/datasets/models/huggingface/meta-llama/Llama-2-70b-hf/\"\n",
    "tokenizer = AutoTokenizer.from_pretrained(LLAMA_DIR)\n",
    "tokenizer.pad_token = tokenizer.eos_token\n",
    "encoded_inputs = tokenizer(\n",
    "    data_string, truncation=True, padding=True, return_tensors=\"pt\"\n",
    ")\n",
    "num_non_padding_toks = (\n",
    "    encoded_inputs[\"attention_mask\"].sum(dim=1).tolist()\n",
    ")"
   ]
  },
  {
   "cell_type": "code",
   "execution_count": null,
   "metadata": {},
   "outputs": [],
   "source": [
    "sum(num_non_padding_toks)"
   ]
  },
  {
   "cell_type": "code",
   "execution_count": 7,
   "metadata": {},
   "outputs": [
    {
     "name": "stdout",
     "output_type": "stream",
     "text": [
      "Loaded c4/part_5.arrow\n"
     ]
    }
   ],
   "source": [
    "# Decontaminate 1 file of c4\n",
    "total_decontamination_time = datetime.timedelta(hours=0)\n",
    "janitor = Janitor(delete_chars=\"\")\n",
    "janitor.register_contaminant(arithmetic)\n",
    "\n",
    "for file_num in range(5, 13):\n",
    "    arrow_path = (\n",
    "        f\"/data/tir/projects/tir7/user_data/mchen5/dolma_100B/c4/part_{file_num}.arrow\"\n",
    "    )\n",
    "    data = pq.read_table(arrow_path)\n",
    "    data_string = \"\".join(data.column(\"text\").to_pandas())\n",
    "    print(f\"Loaded c4/part_{file_num}.arrow\")\n",
    "\n",
    "    pre_decontaminate = datetime.datetime.now()\n",
    "    # Test decontaminating arithmetic against c4 part {file_num}\n",
    "    result = janitor.clean_python(data_string)\n",
    "\n",
    "    print(\n",
    "        f\"Decontaminated c4 part {file_num} of arithmetic in \"\n",
    "        + str(datetime.datetime.now() - pre_decontaminate)\n",
    "    )\n",
    "\n",
    "    total_decontamination_time += datetime.datetime.now() - pre_decontaminate"
   ]
  },
  {
   "cell_type": "markdown",
   "metadata": {},
   "source": [
    "For estimating runtimes:\n",
    "| Folder | # of arrow files |\n",
    "|--------|-------|\n",
    "| c4 | 4213499 |\n",
    "| common-crawl | 510983 |\n",
    "| gutenberg-books | 1178 |\n",
    "| peS2o | 20803 |\n",
    "| stack-code | 103818 |\n",
    "| wiki-en-simple | 2785999 |\n",
    "| dolma_100B (total) | 7636280 |\n"
   ]
  },
  {
   "cell_type": "markdown",
   "metadata": {},
   "source": [
    "Testing results:\n",
    "- Deduplicating full part 1 of c4 against arithmetic (C++):\n",
    "    - 512G RAM (43 G used), 1 GPU, 4 CPUs (169% efficiency) - 15 mins 40 sec\n",
    "- Deduplicating 1/10 of part 1 of c4 against arithmetic (Python):\n",
    "    - 512G RAM (43 G used), 1 GPU, 4 CPUs (169% efficiency) - 1 min 35 sec\n",
    "- Deduplicating full part 2 of c4 against arithemtic (C++):\n",
    "    - 512G RAM (26 G used), 1 GPU, 16 CPUs (14% efficiency) - 16 min 16 sec\n",
    "- Deduplicating parts 5 - 12 of c4 against arithmetic (C++):\n",
    "    - 512G RAM (43 G used), 1 GPU, 16 CPUs (66% efficiency) - 140 min\n",
    "        - Average 17.5 min per part\n",
    "\n",
    "To do:\n",
    "- Multithread(?) by splitting data into chunks and deduplicating each chunk in parallel"
   ]
  }
 ],
 "metadata": {
  "kernelspec": {
   "display_name": "towerllm-env",
   "language": "python",
   "name": "python3"
  },
  "language_info": {
   "codemirror_mode": {
    "name": "ipython",
    "version": 3
   },
   "file_extension": ".py",
   "mimetype": "text/x-python",
   "name": "python",
   "nbconvert_exporter": "python",
   "pygments_lexer": "ipython3",
   "version": "3.9.18"
  }
 },
 "nbformat": 4,
 "nbformat_minor": 2
}
