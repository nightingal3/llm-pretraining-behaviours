{
 "cells": [
  {
   "cell_type": "markdown",
   "metadata": {},
   "source": [
    "This file tests the deduplication code from EleutherAI's `janitor.py` file on small section(s) of Dolma to estimate how long full deduplication would take."
   ]
  },
  {
   "cell_type": "code",
   "execution_count": 1,
   "metadata": {},
   "outputs": [],
   "source": [
    "import pyarrow.parquet as pq\n",
    "from pathlib import Path\n",
    "import sys\n",
    "import datetime\n",
    "\n",
    "harness_dir = str(Path(\"__file__\").resolve().parents[3] / \"lm-evaluation-harness\")\n",
    "sys.path.append(harness_dir)\n",
    "\n",
    "# To run this with C++ on Linux:\n",
    "# At lm-evaluation-harness/scripts/clean_training_data, \n",
    "# run c++ -O3 -Wall -shared -std=c++11 -fPIC $(python3 -m pybind11 --includes) janitor_util.cpp -o janitor_util$(python3-config --extension-suffix)\n",
    "# Rename the resulting .so file to janitor_ util.so\n",
    "# Tell Python the location of janitor_util.so when it looks for janitor_util\n",
    "sys.path.append(harness_dir + \"/scripts/clean_training_data\")\n",
    "from lm_eval.decontamination.janitor import Janitor"
   ]
  },
  {
   "cell_type": "code",
   "execution_count": 2,
   "metadata": {},
   "outputs": [],
   "source": [
    "with open('./arithmetic.txt', 'r') as file:\n",
    "    arithmetic = file.read()"
   ]
  },
  {
   "cell_type": "code",
   "execution_count": 3,
   "metadata": {},
   "outputs": [
    {
     "name": "stdout",
     "output_type": "stream",
     "text": [
      "Loaded c4/part_1.arrow\n"
     ]
    }
   ],
   "source": [
    "# Load 1M lines of c4\n",
    "arrow_path = \"/data/tir/projects/tir7/user_data/mchen5/dolma_100B/c4/part_1.arrow\"\n",
    "data = pq.read_table(arrow_path)\n",
    "data_string = \"\".join(data.column(\"text\").to_pandas())\n",
    "print(\"Loaded c4/part_1.arrow\")\n",
    "\n",
    "pre_decontaminate = datetime.datetime.now()\n",
    "# Test decontaminating arithmetic against c4 part 1\n",
    "janitor = Janitor(delete_chars=\"\")\n",
    "janitor.register_contaminant(arithmetic)\n",
    "result = janitor.clean_python(data_string)\n",
    "\n",
    "print(\"Decontaminated c4 part 1 of arithmetic in \" + str(datetime.datetime.now() - pre_decontaminate))\n",
    "\n",
    "result = \"\".join(result)\n",
    "\n",
    "result"
   ]
  },
  {
   "cell_type": "markdown",
   "metadata": {},
   "source": [
    "For estimating runtimes:\n",
    "| Folder | # of arrow files |\n",
    "|--------|-------|\n",
    "| c4 | 4213499 |\n",
    "| common-crawl | 510983 |\n",
    "| gutenberg-books | 1178 |\n",
    "| peS2o | 20803 |\n",
    "| stack-code | 103818 |\n",
    "| wiki-en-simple | 2785999 |\n",
    "| dolma_100B (total) | 7636280 |\n"
   ]
  },
  {
   "cell_type": "markdown",
   "metadata": {},
   "source": []
  }
 ],
 "metadata": {
  "kernelspec": {
   "display_name": "towerllm-env",
   "language": "python",
   "name": "python3"
  },
  "language_info": {
   "codemirror_mode": {
    "name": "ipython",
    "version": 3
   },
   "file_extension": ".py",
   "mimetype": "text/x-python",
   "name": "python",
   "nbconvert_exporter": "python",
   "pygments_lexer": "ipython3",
   "version": "3.9.18"
  }
 },
 "nbformat": 4,
 "nbformat_minor": 2
}
