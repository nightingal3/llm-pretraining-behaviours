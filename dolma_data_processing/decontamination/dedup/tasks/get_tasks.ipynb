{
 "cells": [
  {
   "cell_type": "code",
   "execution_count": 5,
   "metadata": {},
   "outputs": [],
   "source": [
    "import os\n",
    "import jsonlines"
   ]
  },
  {
   "cell_type": "code",
   "execution_count": 13,
   "metadata": {},
   "outputs": [],
   "source": [
    "arithmetic = \"\"\n",
    "for file in os.listdir(\"./arithmetic_raw\"):\n",
    "    if file.endswith(\".jsonl\"):\n",
    "        with jsonlines.open(os.path.join(\"./arithmetic_raw\", file)) as f:\n",
    "            for line in f:\n",
    "                arithmetic += str(line)\n",
    "with open(\"../arithmetic.txt\", \"w\") as f:\n",
    "    f.write(arithmetic)"
   ]
  }
 ],
 "metadata": {
  "kernelspec": {
   "display_name": "towerllm-env",
   "language": "python",
   "name": "python3"
  },
  "language_info": {
   "codemirror_mode": {
    "name": "ipython",
    "version": 3
   },
   "file_extension": ".py",
   "mimetype": "text/x-python",
   "name": "python",
   "nbconvert_exporter": "python",
   "pygments_lexer": "ipython3",
   "version": "3.9.18"
  }
 },
 "nbformat": 4,
 "nbformat_minor": 2
}
