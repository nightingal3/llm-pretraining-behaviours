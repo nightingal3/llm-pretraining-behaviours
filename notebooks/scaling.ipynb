{
 "cells": [
  {
   "attachments": {},
   "cell_type": "markdown",
   "metadata": {},
   "source": [
    "## Loading Data"
   ]
  },
  {
   "cell_type": "code",
   "execution_count": 6,
   "metadata": {},
   "outputs": [],
   "source": [
    "import os\n",
    "import json\n",
    "import pandas as pd\n",
    "\n",
    "def crawl_ducttape_outputs(\n",
    "    ducttape_output: str,\n",
    "    results_task: str = \"Eval\",\n",
    "    results_json: str = \"eval_results\",\n",
    "):\n",
    "    \"\"\"Crawl the outputs of ducttape jobs\"\"\"\n",
    "    results_dir = os.path.join(ducttape_output, results_task)\n",
    "    branches_info = []\n",
    "    for filename in os.listdir(results_dir):\n",
    "        # check if its not directory\n",
    "        filepath = os.path.join(results_dir, filename)\n",
    "        if os.path.isfile(filepath):\n",
    "            continue\n",
    "        \n",
    "        branches = filename.split(\"+\")\n",
    "        kwargs = {\n",
    "            branch.split(\".\")[0]: branch.split(\".\")[1] \n",
    "            for branch in branches\n",
    "        }\n",
    "\n",
    "        branches_info.append((filepath, kwargs))\n",
    "\n",
    "    num_branches = max(len(i[1]) for i in branches_info)\n",
    "    results = []\n",
    "    for filepath, kwargs in branches_info:\n",
    "        # skip folders with less branches (so we dont repeat on symlinks)\n",
    "        if len(kwargs) < num_branches:\n",
    "            continue\n",
    "\n",
    "        # read results\n",
    "        with open(os.path.join(filepath, results_json)) as f:\n",
    "            metrics = json.load(f)\n",
    "            row = {**kwargs, **metrics}\n",
    "            results.append(row)\n",
    "\n",
    "    return pd.DataFrame.from_records(results)"
   ]
  },
  {
   "cell_type": "code",
   "execution_count": 7,
   "metadata": {},
   "outputs": [],
   "source": [
    "TOWERLLM_OUTS = \"/mnt/data/patrick/towerllm-outs/llama2_c4small\"\n",
    "output_df = crawl_ducttape_outputs(TOWERLLM_OUTS)"
   ]
  },
  {
   "cell_type": "code",
   "execution_count": 21,
   "metadata": {},
   "outputs": [],
   "source": [
    "import yaml\n",
    "\n",
    "CONFIGS_FOLDER = \"../configs/models\"\n",
    "SIZE_CONFIGS = {\n",
    "    \"base\": os.path.join(CONFIGS_FOLDER, \"llama2_1b.yml\"),\n",
    "    \"small1\": os.path.join(CONFIGS_FOLDER, \"llama2_50m.yml\"),\n",
    "    \"small2\": os.path.join(CONFIGS_FOLDER, \"llama2_150m.yml\"),\n",
    "    \"small3\": os.path.join(CONFIGS_FOLDER, \"llama2_500m.yml\"),\n",
    "}\n",
    "\n",
    "def get_size(\n",
    "    hidden_size,\n",
    "    ffn_hidden_size,\n",
    "    num_layers,\n",
    "    num_attention_heads,\n",
    "    num_kv_heads,\n",
    "    *args,\n",
    "    vocab_size=32000,\n",
    "    return_embeddings=True,\n",
    "    **kwargs,\n",
    "):\n",
    "    embeddings_ps = vocab_size * hidden_size\n",
    "    grouped_size = hidden_size // (num_attention_heads // num_kv_heads)\n",
    "    layer_attn_ps = hidden_size * hidden_size * 2  + grouped_size * hidden_size * 2\n",
    "    layer_ffn_ps = hidden_size * ffn_hidden_size * 3\n",
    "    layer_ln_ps = hidden_size * 2\n",
    "    layer_ps = layer_attn_ps + layer_ffn_ps + layer_ln_ps\n",
    "    decoder_ps = hidden_size * vocab_size \n",
    "\n",
    "    total_ps = num_layers * layer_ps \n",
    "    if return_embeddings:\n",
    "        total_ps += embeddings_ps + decoder_ps\n",
    "    return total_ps\n",
    "\n",
    "def get_scaling_df(output_df):\n",
    "    df = output_df.copy()\n",
    "    def _get_size_from_name(name):\n",
    "        config_f = SIZE_CONFIGS[name]\n",
    "        with open(config_f) as f:\n",
    "            config = yaml.load(f, Loader=yaml.FullLoader)\n",
    "        return get_size(**config, return_embeddings=False)\n",
    "        \n",
    "    df[\"Params\"] = df[\"Size\"].apply(_get_size_from_name)\n",
    "    # order columns to have Size and Params first, and sort by Params\n",
    "    df = df[[\"Size\", \"Params\"] + [c for c in df.columns if c not in [\"Size\", \"Params\"]]]\n",
    "    df = df.sort_values(\"Params\")\n",
    "    return df"
   ]
  },
  {
   "cell_type": "code",
   "execution_count": 22,
   "metadata": {},
   "outputs": [
    {
     "data": {
      "text/html": [
       "<div>\n",
       "<style scoped>\n",
       "    .dataframe tbody tr th:only-of-type {\n",
       "        vertical-align: middle;\n",
       "    }\n",
       "\n",
       "    .dataframe tbody tr th {\n",
       "        vertical-align: top;\n",
       "    }\n",
       "\n",
       "    .dataframe thead th {\n",
       "        text-align: right;\n",
       "    }\n",
       "</style>\n",
       "<table border=\"1\" class=\"dataframe\">\n",
       "  <thead>\n",
       "    <tr style=\"text-align: right;\">\n",
       "      <th></th>\n",
       "      <th>Size</th>\n",
       "      <th>Params</th>\n",
       "      <th>UseDeepSpeed</th>\n",
       "      <th>loss</th>\n",
       "      <th>ppl</th>\n",
       "      <th>ajusted_ppl</th>\n",
       "      <th>token_ratio</th>\n",
       "    </tr>\n",
       "  </thead>\n",
       "  <tbody>\n",
       "    <tr>\n",
       "      <th>1</th>\n",
       "      <td>small1</td>\n",
       "      <td>23599104</td>\n",
       "      <td>false</td>\n",
       "      <td>10.351727</td>\n",
       "      <td>31311.085578</td>\n",
       "      <td>610037.500848</td>\n",
       "      <td>1.286865</td>\n",
       "    </tr>\n",
       "    <tr>\n",
       "      <th>0</th>\n",
       "      <td>small2</td>\n",
       "      <td>189947904</td>\n",
       "      <td>false</td>\n",
       "      <td>10.205917</td>\n",
       "      <td>27062.853808</td>\n",
       "      <td>505668.921248</td>\n",
       "      <td>1.286865</td>\n",
       "    </tr>\n",
       "    <tr>\n",
       "      <th>2</th>\n",
       "      <td>small3</td>\n",
       "      <td>455694336</td>\n",
       "      <td>false</td>\n",
       "      <td>10.009663</td>\n",
       "      <td>22240.330929</td>\n",
       "      <td>392811.229007</td>\n",
       "      <td>1.286865</td>\n",
       "    </tr>\n",
       "  </tbody>\n",
       "</table>\n",
       "</div>"
      ],
      "text/plain": [
       "     Size     Params UseDeepSpeed       loss           ppl    ajusted_ppl  \\\n",
       "1  small1   23599104        false  10.351727  31311.085578  610037.500848   \n",
       "0  small2  189947904        false  10.205917  27062.853808  505668.921248   \n",
       "2  small3  455694336        false  10.009663  22240.330929  392811.229007   \n",
       "\n",
       "   token_ratio  \n",
       "1     1.286865  \n",
       "0     1.286865  \n",
       "2     1.286865  "
      ]
     },
     "execution_count": 22,
     "metadata": {},
     "output_type": "execute_result"
    }
   ],
   "source": [
    "scaling_df = get_scaling_df(output_df)\n",
    "scaling_df"
   ]
  },
  {
   "attachments": {},
   "cell_type": "markdown",
   "metadata": {},
   "source": [
    "## Compute Scaling Law"
   ]
  },
  {
   "cell_type": "code",
   "execution_count": 24,
   "metadata": {},
   "outputs": [
    {
     "name": "stdout",
     "output_type": "stream",
     "text": [
      "Fitted power law parameters: a = 0.8597176063058344 , b = -1.3352896109622202e-08\n"
     ]
    },
    {
     "name": "stderr",
     "output_type": "stream",
     "text": [
      "/mnt/data/patrick/miniconda3/envs/towerllm-env/lib/python3.9/site-packages/scipy/optimize/_minpack_py.py:1010: OptimizeWarning: Covariance of the parameters could not be estimated\n",
      "  warnings.warn('Covariance of the parameters could not be estimated',\n"
     ]
    }
   ],
   "source": [
    "import numpy as np\n",
    "from scipy.optimize import curve_fit\n",
    "\n",
    "# Define the power law function\n",
    "def power_law(x, alpha, beta, L):\n",
    "    return beta * np.power(x, alpha) + L\n",
    "\n",
    "# Extract the data from the DataFrame\n",
    "x_data = scaling_df['Params'].values\n",
    "y_data = scaling_df['loss'].values\n",
    "\n",
    "# Fit the power law to the data\n",
    "params, params_covariance = curve_fit(power_law, x_data, y_data)\n",
    "\n",
    "print(\"Fitted power law parameters: a =\", params[0], \", b =\", params[1])"
   ]
  },
  {
   "cell_type": "code",
   "execution_count": 27,
   "metadata": {},
   "outputs": [
    {
     "data": {
      "image/png": "[encoded data removed]",
      "text/plain": [
       "<Figure size 640x480 with 1 Axes>"
      ]
     },
     "metadata": {},
     "output_type": "display_data"
    }
   ],
   "source": [
    "import matplotlib.pyplot as plt\n",
    "\n",
    "# Generate x values for the fitted curve\n",
    "x_fit = np.linspace(min(x_data), max(x_data), 1000)\n",
    "\n",
    "# Compute the y values of the fitted curve\n",
    "y_fit = power_law(x_fit, *params)\n",
    "\n",
    "# Plot the original data as scatter plot\n",
    "plt.scatter(x_data, y_data, color='C0', label='Empirical')\n",
    "\n",
    "# Plot the fitted curve\n",
    "plt.plot(x_fit, y_fit, color='C0', linestyle='--', label='Power-Law')\n",
    "\n",
    "# Add labels and legend\n",
    "plt.xlabel('Params (Non-Embedding)')\n",
    "plt.ylabel('Loss')\n",
    "plt.legend()\n",
    "\n",
    "# Show the plot\n",
    "plt.show()"
   ]
  }
 ],
 "metadata": {
  "kernelspec": {
   "display_name": "base",
   "language": "python",
   "name": "python3"
  },
  "language_info": {
   "codemirror_mode": {
    "name": "ipython",
    "version": 3
   },
   "file_extension": ".py",
   "mimetype": "text/x-python",
   "name": "python",
   "nbconvert_exporter": "python",
   "pygments_lexer": "ipython3",
   "version": "3.9.17"
  },
  "orig_nbformat": 4
 },
 "nbformat": 4,
 "nbformat_minor": 2
}
