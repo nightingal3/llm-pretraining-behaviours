{
 "cells": [
  {
   "attachments": {},
   "cell_type": "markdown",
   "metadata": {},
   "source": [
    "## Core Functions"
   ]
  },
  {
   "cell_type": "code",
   "execution_count": 15,
   "metadata": {},
   "outputs": [],
   "source": [
    "import os\n",
    "import json\n",
    "import pandas as pd\n",
    "\n",
    "def crawl_ducttape_outputs(\n",
    "    ducttape_output: str,\n",
    "    results_task: str = \"EvalLLM\",\n",
    "    results_json: str = \"results.json\",\n",
    "):\n",
    "    \"\"\"Crawl the outputs of ducttape jobs\"\"\"\n",
    "    results_dir = os.path.join(ducttape_output, results_task)\n",
    "    branches_info = []\n",
    "    for filename in os.listdir(results_dir):\n",
    "        # check if its not directory\n",
    "        filepath = os.path.join(results_dir, filename)\n",
    "        if os.path.isfile(filepath):\n",
    "            continue\n",
    "        \n",
    "        branches = filename.split(\"+\")\n",
    "        kwargs = {\n",
    "            branch.split(\".\")[0]: branch.split(\".\")[1] \n",
    "            for branch in branches\n",
    "        }\n",
    "\n",
    "        branches_info.append((filepath, kwargs))\n",
    "\n",
    "    print(branches_info)\n",
    "    num_branches = max(len(i[1]) for i in branches_info)\n",
    "    results = []\n",
    "    for filepath, kwargs in branches_info:\n",
    "        # skip folders with less branches (so we dont repeat on symlinks)\n",
    "        if len(kwargs) < num_branches:\n",
    "            continue\n",
    "\n",
    "        # read results\n",
    "        with open(os.path.join(filepath, results_json)) as f:\n",
    "            metrics = json.load(f)\n",
    "            row = {**kwargs, **metrics}\n",
    "            results.append(row)\n",
    "\n",
    "    return pd.DataFrame.from_records(results)"
   ]
  },
  {
   "cell_type": "code",
   "execution_count": 16,
   "metadata": {},
   "outputs": [],
   "source": [
    "TOWERLLM_OUTS = \"/mnt/data/patrick/towerllm-outs/llama2_c4small\"\n",
    "output_df = crawl_ducttape_outputs(\n",
    "    TOWERLLM_OUTS,\n",
    "    results_task=\"Train\",\n",
    ")"
   ]
  },
  {
   "cell_type": "code",
   "execution_count": 17,
   "metadata": {},
   "outputs": [],
   "source": [
    "import yaml\n",
    "\n",
    "CONFIGS_FOLDER = \"../configs/models\"\n",
    "SIZE_CONFIGS = {\n",
    "    \"base\": os.path.join(CONFIGS_FOLDER, \"llama2_1b.yml\"),\n",
    "    \"small1\": os.path.join(CONFIGS_FOLDER, \"llama2_50m.yml\"),\n",
    "    \"small2\": os.path.join(CONFIGS_FOLDER, \"llama2_150m.yml\"),\n",
    "    \"small3\": os.path.join(CONFIGS_FOLDER, \"llama2_300m.yml\"),\n",
    "}\n",
    "\n",
    "def get_size(\n",
    "    hidden_size,\n",
    "    ffn_hidden_size,\n",
    "    num_layers,\n",
    "    num_attention_heads,\n",
    "    num_kv_heads,\n",
    "    *args,\n",
    "    vocab_size=32000,\n",
    "    **kwargs,\n",
    "):\n",
    "    embeddings_ps = vocab_size * hidden_size\n",
    "    grouped_size = hidden_size // (num_attention_heads // num_kv_heads)\n",
    "    layer_attn_ps = hidden_size * hidden_size * 2 + grouped_size * grouped_size * 2\n",
    "    layer_ffn_ps = hidden_size * ffn_hidden_size * 2\n",
    "    layer_ln_ps = hidden_size * 2\n",
    "    layer_ps = layer_attn_ps + layer_ffn_ps + layer_ln_ps\n",
    "    decoder_ps = hidden_size * vocab_size * 2\n",
    "\n",
    "    return embeddings_ps + num_layers * layer_ps + decoder_ps\n",
    "\n",
    "def get_scaling_df(output_df):\n",
    "    df = output_df.copy()\n",
    "    def _get_size_from_name(name):\n",
    "        config_f = SIZE_CONFIGS[name]\n",
    "        with open(config_f) as f:\n",
    "            config = yaml.load(f, Loader=yaml.FullLoader)\n",
    "        return get_size(**config)\n",
    "        \n",
    "    df[\"Size\"] = df[\"Size\"].apply(_get_size_from_name)\n",
    "    return df"
   ]
  },
  {
   "cell_type": "code",
   "execution_count": 18,
   "metadata": {},
   "outputs": [
    {
     "data": {
      "text/html": [
       "<div>\n",
       "<style scoped>\n",
       "    .dataframe tbody tr th:only-of-type {\n",
       "        vertical-align: middle;\n",
       "    }\n",
       "\n",
       "    .dataframe tbody tr th {\n",
       "        vertical-align: top;\n",
       "    }\n",
       "\n",
       "    .dataframe thead th {\n",
       "        text-align: right;\n",
       "    }\n",
       "</style>\n",
       "<table border=\"1\" class=\"dataframe\">\n",
       "  <thead>\n",
       "    <tr style=\"text-align: right;\">\n",
       "      <th></th>\n",
       "      <th>DSAutotuneConfig</th>\n",
       "      <th>Size</th>\n",
       "      <th>UseDeepSpeed</th>\n",
       "      <th>ppl</th>\n",
       "    </tr>\n",
       "  </thead>\n",
       "  <tbody>\n",
       "    <tr>\n",
       "      <th>0</th>\n",
       "      <td>false</td>\n",
       "      <td>65673216</td>\n",
       "      <td>true</td>\n",
       "      <td>10</td>\n",
       "    </tr>\n",
       "  </tbody>\n",
       "</table>\n",
       "</div>"
      ],
      "text/plain": [
       "  DSAutotuneConfig      Size UseDeepSpeed  ppl\n",
       "0            false  65673216         true   10"
      ]
     },
     "execution_count": 18,
     "metadata": {},
     "output_type": "execute_result"
    }
   ],
   "source": [
    "scaling_df = get_scaling_df(output_df)\n",
    "scaling_df"
   ]
  }
 ],
 "metadata": {
  "kernelspec": {
   "display_name": "base",
   "language": "python",
   "name": "python3"
  },
  "language_info": {
   "codemirror_mode": {
    "name": "ipython",
    "version": 3
   },
   "file_extension": ".py",
   "mimetype": "text/x-python",
   "name": "python",
   "nbconvert_exporter": "python",
   "pygments_lexer": "ipython3",
   "version": "3.9.17"
  },
  "orig_nbformat": 4
 },
 "nbformat": 4,
 "nbformat_minor": 2
}
