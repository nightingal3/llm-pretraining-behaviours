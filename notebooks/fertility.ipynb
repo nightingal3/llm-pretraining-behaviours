{
 "cells": [
  {
   "cell_type": "code",
   "execution_count": null,
   "metadata": {},
   "outputs": [],
   "source": [
    "import os\n",
    "import json\n",
    "import pandas as pd\n",
    "\n",
    "def crawl_ducttape_outputs(\n",
    "    ducttape_output: str,\n",
    "    results_task: str = \"AnalyzeTokenizer\",\n",
    "    results_json: str = \"eval_results\",\n",
    "    use_symlinks: bool = True,\n",
    "):\n",
    "    \"\"\"Crawl the outputs of ducttape jobs\"\"\"\n",
    "    results_dir = os.path.join(ducttape_output, results_task)\n",
    "    branches_info = []\n",
    "    for filename in os.listdir(results_dir):\n",
    "        # check if its not directory\n",
    "        filepath = os.path.join(results_dir, filename)\n",
    "        if os.path.isfile(filepath):\n",
    "            continue\n",
    "        \n",
    "        branches = filename.split(\"+\")\n",
    "        kwargs = {\n",
    "            branch.split(\".\")[0]: branch.split(\".\")[1] \n",
    "            for branch in branches\n",
    "        }\n",
    "\n",
    "        branches_info.append((filepath, kwargs))\n",
    "\n",
    "    num_branches = max(len(i[1]) for i in branches_info)\n",
    "    results = []\n",
    "    for filepath, kwargs in branches_info:\n",
    "        # skip folders with less branches (so we dont repeat on symlinks)\n",
    "        if len(kwargs) < num_branches and use_symlinks:\n",
    "            continue\n",
    "\n",
    "        # read results\n",
    "        result_file = os.path.join(filepath, results_json)\n",
    "        if not os.path.isfile(result_file):\n",
    "            print(f\"Missing results file: {result_file}\")\n",
    "            continue\n",
    "        \n",
    "        with open(os.path.join(filepath, results_json)) as f:\n",
    "            metrics = json.load(f)\n",
    "            row = {**kwargs, **metrics}\n",
    "            results.append(row)\n",
    "\n",
    "    return pd.DataFrame.from_records(results)"
   ]
  }
 ],
 "metadata": {
  "language_info": {
   "name": "python"
  },
  "orig_nbformat": 4
 },
 "nbformat": 4,
 "nbformat_minor": 2
}
