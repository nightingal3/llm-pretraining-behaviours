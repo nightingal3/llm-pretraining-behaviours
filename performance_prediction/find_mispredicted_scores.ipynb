{
 "cells": [
  {
   "cell_type": "code",
   "execution_count": 122,
   "metadata": {},
   "outputs": [],
   "source": [
    "import pandas as pd\n",
    "import numpy as np\n",
    "import json"
   ]
  },
  {
   "cell_type": "code",
   "execution_count": 123,
   "metadata": {},
   "outputs": [],
   "source": [
    "scores = pd.read_csv(\"absolute_errors_all_scaling_laws.csv\")\n",
    "scores.rename(columns={scores.columns[0]: \"model name\"}, inplace=True)\n",
    "scores.set_index(\"model name\", inplace=True)"
   ]
  },
  {
   "cell_type": "code",
   "execution_count": 125,
   "metadata": {},
   "outputs": [],
   "source": [
    "# For each task separately, find the 3 worst performing models\n",
    "worst_per_task = {}\n",
    "for task in scores.columns:\n",
    "    cutoff = sorted(scores[task].dropna())[-3]\n",
    "    worst_per_task[task] = [\n",
    "        (model, score) for model, score in scores[scores[task] >= cutoff][task].items()\n",
    "    ]\n",
    "\n",
    "# Write the results to a separate file\n",
    "worst_per_task_json = json.dumps(worst_per_task, indent=4)\n",
    "# Write the JSON string to a file\n",
    "with open(\"highest_errors_per_task.json\", \"w\") as file:\n",
    "    file.write(worst_per_task_json)"
   ]
  },
  {
   "cell_type": "code",
   "execution_count": 126,
   "metadata": {},
   "outputs": [
    {
     "data": {
      "text/html": [
       "<div>\n",
       "<style scoped>\n",
       "    .dataframe tbody tr th:only-of-type {\n",
       "        vertical-align: middle;\n",
       "    }\n",
       "\n",
       "    .dataframe tbody tr th {\n",
       "        vertical-align: top;\n",
       "    }\n",
       "\n",
       "    .dataframe thead th {\n",
       "        text-align: right;\n",
       "    }\n",
       "</style>\n",
       "<table border=\"1\" class=\"dataframe\">\n",
       "  <thead>\n",
       "    <tr style=\"text-align: right;\">\n",
       "      <th></th>\n",
       "      <th>mae</th>\n",
       "    </tr>\n",
       "    <tr>\n",
       "      <th>model name</th>\n",
       "      <th></th>\n",
       "    </tr>\n",
       "  </thead>\n",
       "  <tbody>\n",
       "    <tr>\n",
       "      <th>mistralai/Mistral-7B-v0.1</th>\n",
       "      <td>0.127208</td>\n",
       "    </tr>\n",
       "    <tr>\n",
       "      <th>kevin009/babyllama-v0.6</th>\n",
       "      <td>0.130865</td>\n",
       "    </tr>\n",
       "    <tr>\n",
       "      <th>openai-community/gpt2</th>\n",
       "      <td>0.140367</td>\n",
       "    </tr>\n",
       "    <tr>\n",
       "      <th>mistralai/Mixtral-8x7B-v0.1</th>\n",
       "      <td>0.144533</td>\n",
       "    </tr>\n",
       "    <tr>\n",
       "      <th>kevin009/flyingllama-v2</th>\n",
       "      <td>0.157561</td>\n",
       "    </tr>\n",
       "    <tr>\n",
       "      <th>jb723/cross_lingual_epoch2</th>\n",
       "      <td>0.200439</td>\n",
       "    </tr>\n",
       "    <tr>\n",
       "      <th>Qwen/Qwen-7B</th>\n",
       "      <td>0.244064</td>\n",
       "    </tr>\n",
       "    <tr>\n",
       "      <th>tiiuae/falcon-7b</th>\n",
       "      <td>0.249429</td>\n",
       "    </tr>\n",
       "    <tr>\n",
       "      <th>playdev7/theseed-v0.3</th>\n",
       "      <td>0.315314</td>\n",
       "    </tr>\n",
       "    <tr>\n",
       "      <th>AbacusResearch/Jallabi-34B</th>\n",
       "      <td>0.408431</td>\n",
       "    </tr>\n",
       "  </tbody>\n",
       "</table>\n",
       "</div>"
      ],
      "text/plain": [
       "                                  mae\n",
       "model name                           \n",
       "mistralai/Mistral-7B-v0.1    0.127208\n",
       "kevin009/babyllama-v0.6      0.130865\n",
       "openai-community/gpt2        0.140367\n",
       "mistralai/Mixtral-8x7B-v0.1  0.144533\n",
       "kevin009/flyingllama-v2      0.157561\n",
       "jb723/cross_lingual_epoch2   0.200439\n",
       "Qwen/Qwen-7B                 0.244064\n",
       "tiiuae/falcon-7b             0.249429\n",
       "playdev7/theseed-v0.3        0.315314\n",
       "AbacusResearch/Jallabi-34B   0.408431"
      ]
     },
     "execution_count": 126,
     "metadata": {},
     "output_type": "execute_result"
    }
   ],
   "source": [
    "# Find the 10 models with the highest MAE across all tasks\n",
    "scores[\"mae\"] = scores.mean(axis=1)\n",
    "cutoff = sorted(scores[\"mae\"])[-10]\n",
    "worst_overall = scores.loc[scores[\"mae\"] >= cutoff, [\"mae\"]]\n",
    "worst_overall.sort_values(by=\"mae\")"
   ]
  }
 ],
 "metadata": {
  "kernelspec": {
   "display_name": "towerllm-env",
   "language": "python",
   "name": "python3"
  },
  "language_info": {
   "codemirror_mode": {
    "name": "ipython",
    "version": 3
   },
   "file_extension": ".py",
   "mimetype": "text/x-python",
   "name": "python",
   "nbconvert_exporter": "python",
   "pygments_lexer": "ipython3",
   "version": "3.9.18"
  }
 },
 "nbformat": 4,
 "nbformat_minor": 2
}
